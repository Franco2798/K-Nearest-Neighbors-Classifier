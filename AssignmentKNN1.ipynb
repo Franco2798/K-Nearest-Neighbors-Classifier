{
 "cells": [
  {
   "cell_type": "markdown",
   "metadata": {},
   "source": [
    "# Assignment: K Nearest Neighbor\n",
    "## Problem 1 (15 points)\n",
    "In this problem, you will implement a Distance-Weighted Nearest Neighbor\n",
    "Classifier and run it on a 2-dimensional dataset. (You can’t use built-in\n",
    "knn functions in Python to do this problem). You have to experiment\n",
    "with diﬀerent distance measures and observe their influence on the classification\n",
    "performance.\n",
    "The training data has two classes as shown in figure 1. The training set\n",
    "along with test points and their correct label are saved in knnData.csv.\n",
    "Apply 3-NN and report your accuracy rate on test points for the following\n",
    "distance measures:\n",
    "1. L2 norm\n",
    "2. L1 norm\n",
    "3. L∞ norm"
   ]
  },
  {
   "cell_type": "code",
   "execution_count": 2,
   "metadata": {},
   "outputs": [
    {
     "name": "stdout",
     "output_type": "stream",
     "text": [
      "Accuracy using L2 norm: 0.825\n",
      "Accuracy using L1 norm: 0.875\n",
      "Accuracy using Linf norm: 0.875\n"
     ]
    }
   ],
   "source": [
    "import pandas as pd\n",
    "import numpy as np\n",
    "from collections import Counter\n",
    "\n",
    "# Reading the csv file\n",
    "df = pd.read_csv('knnData.csv')\n",
    "\n",
    "# Obtaining training and test data\n",
    "train_data = df.iloc[:, 0:3]\n",
    "test_data = df.iloc[:, -3:]\n",
    "\n",
    "\n",
    "# Building functions to obtain L2, L1 and Linf distances\n",
    "def l2_distance(x1, x2):\n",
    "    return np.sqrt(np.sum((x1-x2)**2))\n",
    "\n",
    "def l1_distance(x1, x2):\n",
    "    return np.sum(np.abs(x1-x2))\n",
    "\n",
    "def linf_distance(x1, x2):\n",
    "    return np.max(np.abs(x1-x2))\n",
    "\n",
    "# Building a function to obtain tke k nearest neighbors\n",
    "def get_k_nearest_neighbors(train_data, test_point, k, distance_function):\n",
    "    distances = []\n",
    "    for _, row in train_data.iterrows():\n",
    "        distance = distance_function(np.array([row.iloc[0], row.iloc[1]]), np.array(test_point))\n",
    "        distances.append((distance, row.iloc[2]))\n",
    "    distances.sort(key=lambda x: x[0])\n",
    "    return distances[:k]\n",
    "\n",
    "# Building a function to implement a distance-weighted knn classifier\n",
    "def weighted_knn_classification(train_data, test_point, k, distance_function):\n",
    "    neighbors = get_k_nearest_neighbors(train_data, test_point, k, distance_function)\n",
    "    weight_sum = Counter()\n",
    "    for distance, cls in neighbors:\n",
    "        weight = 1 / (distance**2 + 1e-5)     # I add a small value to avoid zero division\n",
    "        weight_sum[cls] += weight\n",
    "    return weight_sum.most_common(1)[0][0]\n",
    "\n",
    "# Building a function to report accuracy rate\n",
    "def compute_accuracy(train_data, test_data, k, distance_function):\n",
    "    correct_predictions = 0\n",
    "    for _, row in test_data.iterrows():\n",
    "        prediction = weighted_knn_classification(train_data, [row.iloc[0], row.iloc[1]], k, distance_function)\n",
    "        if prediction == row.iloc[2]:\n",
    "            correct_predictions += 1\n",
    "    return correct_predictions / len(test_data)\n",
    "\n",
    "# Obtaining accuracy for L2, L1 and Linf (with k=3)\n",
    "\n",
    "k = 3\n",
    "accuracy_l2 = compute_accuracy(train_data, test_data, k, l2_distance)\n",
    "accuracy_l1 = compute_accuracy(train_data, test_data, k, l1_distance)\n",
    "accuracy_linf = compute_accuracy(train_data, test_data, k, linf_distance)\n",
    "\n",
    "print(f'Accuracy using L2 norm: {accuracy_l2:.3f}')\n",
    "print(f'Accuracy using L1 norm: {accuracy_l1:.3f}')\n",
    "print(f'Accuracy using Linf norm: {accuracy_linf:.3f}')\n",
    "\n",
    "\n",
    "\n"
   ]
  }
 ],
 "metadata": {
  "kernelspec": {
   "display_name": "Python 3",
   "language": "python",
   "name": "python3"
  },
  "language_info": {
   "codemirror_mode": {
    "name": "ipython",
    "version": 3
   },
   "file_extension": ".py",
   "mimetype": "text/x-python",
   "name": "python",
   "nbconvert_exporter": "python",
   "pygments_lexer": "ipython3",
   "version": "3.12.6"
  }
 },
 "nbformat": 4,
 "nbformat_minor": 2
}
